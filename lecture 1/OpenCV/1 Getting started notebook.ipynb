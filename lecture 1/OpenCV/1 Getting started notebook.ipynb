{
 "cells": [
  {
   "cell_type": "markdown",
   "metadata": {
    "deletable": true,
    "editable": true
   },
   "source": [
    "# OpenCV from the very beginning\n",
    "\n",
    "This is a tutorial that should get you up and running with OpenCV as fast as possible. The emphasis is on practical, quick, python-based image analysis and manipulation with pointers to a lot of the gotchas. It's not on principles or theory: if you want that, read a book:-)\n",
    "\n",
    "(I recommend : [https://www.amazon.co.uk/Image-Processing-Analysis-Machine-Vision/dp/1133593607/ref=dp_ob_image_bk] for a thorough and clear image processing base as well as a computer vision intro. I also recommend [http://szeliski.org/Book/] which is clear, vision rather than image processing based, and available online)"
   ]
  },
  {
   "cell_type": "markdown",
   "metadata": {
    "deletable": true,
    "editable": true
   },
   "source": [
    "## First things first\n",
    "\n",
    "*Install*. Things to install:\n",
    " * Python\n",
    "     * Install PIP which lets you install other libraries within python. Anaconda [ https://www.continuum.io/downloads ] is another option, which comes with a all the main suggestions below\n",
    "     * numpy \n",
    "     * scipy\n",
    "     * There are loads of other libraries to install once you have python. If you're not already using Python for prototyping it is at least worth a look, and so you may also want to try installing these:\n",
    "     * pandas (data analysis)\n",
    "     * matplotlib (plotting)\n",
    "     * jupyter (interactive notebooks: this is a jupyter notebook)\n",
    "     \n",
    " * OpenCV 3.1\n",
    "     * This has a bunch of dependencies. Here are instructions for Linux installation: http://docs.opencv.org/3.1.0/d7/d9f/tutorial_linux_install.html\n",
    "     * Here are instructions for Mac:\n",
    "     https://prateekvjoshi.com/2015/10/09/installing-opencv-3-with-python-on-mac-os-x/\n",
    "     * And here for Windows: http://docs.opencv.org/3.1.0/d5/de5/tutorial_py_setup_in_windows.html\n",
    "\n"
   ]
  },
  {
   "cell_type": "markdown",
   "metadata": {
    "deletable": true,
    "editable": true
   },
   "source": [
    "### Testing OpenCV installation\n",
    "If that's worked you can go to the samples directory and run some code to test it. On linux or mac, change to the right directory (you'll find \"samples\" under opencv-3.1.0) then type ./edge.py\n",
    "\n",
    "```\n",
    "hannah@loganberry ~/Downloads/opencv-3.1.0/samples/python $ ./edge.py \n",
    "```\n",
    "\n",
    "If you get a window with some trackbars and edge-detected output of your webcam, you're good to go.\n",
    "To run the same test in Windows, try opening the edge.py file in your Python editor of choice (e.g. Idle) and selecting run.\n",
    "\n",
    "![Edge detection example](edgedemo.png \"Edges\")"
   ]
  }
 ],
 "metadata": {
  "kernelspec": {
   "display_name": "Python 3.12.5 64-bit ('3.12.5')",
   "language": "python",
   "name": "python3"
  },
  "language_info": {
   "codemirror_mode": {
    "name": "ipython",
    "version": 3
   },
   "file_extension": ".py",
   "mimetype": "text/x-python",
   "name": "python",
   "nbconvert_exporter": "python",
   "pygments_lexer": "ipython3",
   "version": "3.12.5"
  },
  "vscode": {
   "interpreter": {
    "hash": "85035975107ed86daaa58399a97b97c0bae060a312855d84f60ae67948245fe3"
   }
  }
 },
 "nbformat": 4,
 "nbformat_minor": 0
}
